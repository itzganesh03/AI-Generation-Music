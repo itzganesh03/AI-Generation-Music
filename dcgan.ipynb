{
  "cells": [
    {
      "cell_type": "markdown",
      "metadata": {
        "id": "_jQ1tEQCxwRx"
      },
      "source": [
        "##### Copyright 2019 The TensorFlow Authors."
      ]
    },
    {
      "cell_type": "code",
      "execution_count": null,
      "metadata": {
        "cellView": "form",
        "id": "V_sgB_5dx1f1"
      },
      "outputs": [],
      "source": [
        "#@title Licensed under the Apache License, Version 2.0 (the \"License\");\n",
        "# you may not use this file except in compliance with the License.\n",
        "# You may obtain a copy of the License at\n",
        "#\n",
        "# https://www.apache.org/licenses/LICENSE-2.0\n",
        "#\n",
        "# Unless required by applicable law or agreed to in writing, software\n",
        "# distributed under the License is distributed on an \"AS IS\" BASIS,\n",
        "# WITHOUT WARRANTIES OR CONDITIONS OF ANY KIND, either express or implied.\n",
        "# See the License for the specific language governing permissions and\n",
        "# limitations under the License."
      ]
    },
    {
      "cell_type": "markdown",
      "metadata": {
        "id": "rF2x3qooyBTI"
      },
      "source": [
        "# Deep Convolutional Generative Adversarial Network"
      ]
    },
    {
      "cell_type": "markdown",
      "metadata": {
        "id": "0TD5ZrvEMbhZ"
      },
      "source": [
        "<table class=\"tfo-notebook-buttons\" align=\"left\">\n",
        "  <td>\n",
        "    <a target=\"_blank\" href=\"https://www.tensorflow.org/tutorials/generative/dcgan\">\n",
        "    <img src=\"https://www.tensorflow.org/images/tf_logo_32px.png\" />\n",
        "    View on TensorFlow.org</a>\n",
        "  </td>\n",
        "  <td>\n",
        "    <a target=\"_blank\" href=\"https://colab.research.google.com/github/tensorflow/docs/blob/master/site/en/tutorials/generative/dcgan.ipynb\">\n",
        "    <img src=\"https://www.tensorflow.org/images/colab_logo_32px.png\" />\n",
        "    Run in Google Colab</a>\n",
        "  </td>\n",
        "  <td>\n",
        "    <a target=\"_blank\" href=\"https://github.com/tensorflow/docs/blob/master/site/en/tutorials/generative/dcgan.ipynb\">\n",
        "    <img src=\"https://www.tensorflow.org/images/GitHub-Mark-32px.png\" />\n",
        "    View source on GitHub</a>\n",
        "  </td>\n",
        "  <td>\n",
        "    <a href=\"https://storage.googleapis.com/tensorflow_docs/docs/site/en/tutorials/generative/dcgan.ipynb\"><img src=\"https://www.tensorflow.org/images/download_logo_32px.png\" />Download notebook</a>\n",
        "  </td>\n",
        "</table>"
      ]
    },
    {
      "cell_type": "markdown",
      "metadata": {
        "id": "ITZuApL56Mny"
      },
      "source": [
        "This tutorial demonstrates how to generate images of handwritten digits using a [Deep Convolutional Generative Adversarial Network](https://arxiv.org/pdf/1511.06434.pdf) (DCGAN). The code is written using the [Keras Sequential API](https://www.tensorflow.org/guide/keras) with a `tf.GradientTape` training loop."
      ]
    },
    {
      "cell_type": "markdown",
      "metadata": {
        "id": "2MbKJY38Puy9"
      },
      "source": [
        "## What are GANs?\n",
        "[Generative Adversarial Networks](https://arxiv.org/abs/1406.2661) (GANs) are one of the most interesting ideas in computer science today. Two models are trained simultaneously by an adversarial process. A *generator* (\"the artist\") learns to create images that look real, while a *discriminator* (\"the art critic\") learns to tell real images apart from fakes.\n",
        "\n",
        "![A diagram of a generator and discriminator](https://github.com/tensorflow/docs/blob/master/site/en/tutorials/generative/images/gan1.png?raw=1)\n",
        "\n",
        "During training, the *generator* progressively becomes better at creating images that look real, while the *discriminator* becomes better at telling them apart. The process reaches equilibrium when the *discriminator* can no longer distinguish real images from fakes.\n",
        "\n",
        "![A second diagram of a generator and discriminator](https://github.com/tensorflow/docs/blob/master/site/en/tutorials/generative/images/gan2.png?raw=1)\n",
        "\n",
        "This notebook demonstrates this process on the MNIST dataset. The following animation shows a series of images produced by the *generator* as it was trained for 50 epochs. The images begin as random noise, and increasingly resemble hand written digits over time.\n",
        "\n",
        "![sample output](https://tensorflow.org/images/gan/dcgan.gif)\n",
        "\n",
        "To learn more about GANs, see MIT's [Intro to Deep Learning](http://introtodeeplearning.com/) course."
      ]
    },
    {
      "cell_type": "markdown",
      "metadata": {
        "id": "e1_Y75QXJS6h"
      },
      "source": [
        "### Setup"
      ]
    },
    {
      "cell_type": "code",
      "execution_count": 80,
      "metadata": {
        "id": "WZKbyU2-AiY-"
      },
      "outputs": [],
      "source": [
        "import tensorflow as tf"
      ]
    },
    {
      "cell_type": "code",
      "execution_count": 81,
      "metadata": {
        "id": "wx-zNbLqB4K8",
        "outputId": "60611c3e-c946-4d12-98c8-c188e8d49e0e",
        "colab": {
          "base_uri": "https://localhost:8080/",
          "height": 36
        }
      },
      "outputs": [
        {
          "output_type": "execute_result",
          "data": {
            "text/plain": [
              "'2.15.0'"
            ],
            "application/vnd.google.colaboratory.intrinsic+json": {
              "type": "string"
            }
          },
          "metadata": {},
          "execution_count": 81
        }
      ],
      "source": [
        "tf.__version__"
      ]
    },
    {
      "cell_type": "code",
      "execution_count": 82,
      "metadata": {
        "id": "YzTlj4YdCip_",
        "outputId": "3f945635-f9fe-43df-8c15-b9c20ae8ece6",
        "colab": {
          "base_uri": "https://localhost:8080/"
        }
      },
      "outputs": [
        {
          "output_type": "stream",
          "name": "stdout",
          "text": [
            "Requirement already satisfied: imageio in /usr/local/lib/python3.10/dist-packages (2.31.6)\n",
            "Requirement already satisfied: numpy in /usr/local/lib/python3.10/dist-packages (from imageio) (1.25.2)\n",
            "Requirement already satisfied: pillow<10.1.0,>=8.3.2 in /usr/local/lib/python3.10/dist-packages (from imageio) (9.4.0)\n",
            "Collecting git+https://github.com/tensorflow/docs\n",
            "  Cloning https://github.com/tensorflow/docs to /tmp/pip-req-build-eo5k2gkw\n",
            "  Running command git clone --filter=blob:none --quiet https://github.com/tensorflow/docs /tmp/pip-req-build-eo5k2gkw\n",
            "  Resolved https://github.com/tensorflow/docs to commit 6680535155460f7eb0d2d615b9749a0cf721d4ec\n",
            "  Preparing metadata (setup.py) ... \u001b[?25l\u001b[?25hdone\n",
            "Requirement already satisfied: astor in /usr/local/lib/python3.10/dist-packages (from tensorflow-docs==2024.5.3.31743) (0.8.1)\n",
            "Requirement already satisfied: absl-py in /usr/local/lib/python3.10/dist-packages (from tensorflow-docs==2024.5.3.31743) (1.4.0)\n",
            "Requirement already satisfied: jinja2 in /usr/local/lib/python3.10/dist-packages (from tensorflow-docs==2024.5.3.31743) (3.1.4)\n",
            "Requirement already satisfied: nbformat in /usr/local/lib/python3.10/dist-packages (from tensorflow-docs==2024.5.3.31743) (5.10.4)\n",
            "Requirement already satisfied: protobuf>=3.12 in /usr/local/lib/python3.10/dist-packages (from tensorflow-docs==2024.5.3.31743) (3.20.3)\n",
            "Requirement already satisfied: pyyaml in /usr/local/lib/python3.10/dist-packages (from tensorflow-docs==2024.5.3.31743) (6.0.1)\n",
            "Requirement already satisfied: MarkupSafe>=2.0 in /usr/local/lib/python3.10/dist-packages (from jinja2->tensorflow-docs==2024.5.3.31743) (2.1.5)\n",
            "Requirement already satisfied: fastjsonschema>=2.15 in /usr/local/lib/python3.10/dist-packages (from nbformat->tensorflow-docs==2024.5.3.31743) (2.20.0)\n",
            "Requirement already satisfied: jsonschema>=2.6 in /usr/local/lib/python3.10/dist-packages (from nbformat->tensorflow-docs==2024.5.3.31743) (4.19.2)\n",
            "Requirement already satisfied: jupyter-core!=5.0.*,>=4.12 in /usr/local/lib/python3.10/dist-packages (from nbformat->tensorflow-docs==2024.5.3.31743) (5.7.2)\n",
            "Requirement already satisfied: traitlets>=5.1 in /usr/local/lib/python3.10/dist-packages (from nbformat->tensorflow-docs==2024.5.3.31743) (5.7.1)\n",
            "Requirement already satisfied: attrs>=22.2.0 in /usr/local/lib/python3.10/dist-packages (from jsonschema>=2.6->nbformat->tensorflow-docs==2024.5.3.31743) (23.2.0)\n",
            "Requirement already satisfied: jsonschema-specifications>=2023.03.6 in /usr/local/lib/python3.10/dist-packages (from jsonschema>=2.6->nbformat->tensorflow-docs==2024.5.3.31743) (2023.12.1)\n",
            "Requirement already satisfied: referencing>=0.28.4 in /usr/local/lib/python3.10/dist-packages (from jsonschema>=2.6->nbformat->tensorflow-docs==2024.5.3.31743) (0.35.1)\n",
            "Requirement already satisfied: rpds-py>=0.7.1 in /usr/local/lib/python3.10/dist-packages (from jsonschema>=2.6->nbformat->tensorflow-docs==2024.5.3.31743) (0.18.1)\n",
            "Requirement already satisfied: platformdirs>=2.5 in /usr/local/lib/python3.10/dist-packages (from jupyter-core!=5.0.*,>=4.12->nbformat->tensorflow-docs==2024.5.3.31743) (4.2.2)\n"
          ]
        }
      ],
      "source": [
        "# To generate GIFs\n",
        "!pip install imageio\n",
        "!pip install git+https://github.com/tensorflow/docs"
      ]
    },
    {
      "cell_type": "code",
      "execution_count": 83,
      "metadata": {
        "id": "YfIk2es3hJEd"
      },
      "outputs": [],
      "source": [
        "import glob\n",
        "import imageio\n",
        "import matplotlib.pyplot as plt\n",
        "import numpy as np\n",
        "import os\n",
        "import PIL\n",
        "from tensorflow.keras import layers\n",
        "import time\n",
        "\n",
        "from IPython import display"
      ]
    },
    {
      "cell_type": "markdown",
      "metadata": {
        "id": "iYn4MdZnKCey"
      },
      "source": [
        "### Load and prepare the dataset\n",
        "\n",
        "You will use the MNIST dataset to train the generator and the discriminator. The generator will generate handwritten digits resembling the MNIST data."
      ]
    },
    {
      "cell_type": "code",
      "execution_count": 84,
      "metadata": {
        "id": "a4fYMGxGhrna",
        "outputId": "ff27fb1b-541c-4906-9052-1fc30bf7df24",
        "colab": {
          "base_uri": "https://localhost:8080/"
        }
      },
      "outputs": [
        {
          "output_type": "stream",
          "name": "stdout",
          "text": [
            "/content/input1/IMSLP06053p110.png\n",
            "<class 'numpy.ndarray'>\n",
            "(28, 28)\n",
            "/content/input1/mtest1-194.png\n",
            "<class 'numpy.ndarray'>\n",
            "(28, 28)\n",
            "/content/input1/mops-149.png\n",
            "<class 'numpy.ndarray'>\n",
            "(28, 28)\n",
            "/content/input1/mtest2-138.png\n",
            "<class 'numpy.ndarray'>\n",
            "(28, 28)\n",
            "/content/input1/mtest2-191.png\n",
            "<class 'numpy.ndarray'>\n",
            "(28, 28)\n",
            "/content/input1/IMSLP06053p194.png\n",
            "<class 'numpy.ndarray'>\n",
            "(28, 28)\n",
            "/content/input1/mtest2-134.png\n",
            "<class 'numpy.ndarray'>\n",
            "(28, 28)\n",
            "/content/input1/IMSLP06053p1709.png\n",
            "<class 'numpy.ndarray'>\n",
            "(28, 28)\n",
            "/content/input1/IMSLP06053p1728.png\n",
            "<class 'numpy.ndarray'>\n",
            "(28, 28)\n",
            "/content/input1/mtest2-136.png\n",
            "<class 'numpy.ndarray'>\n",
            "(28, 28)\n",
            "/content/input1/IMSLP06053p1323.png\n",
            "<class 'numpy.ndarray'>\n",
            "(28, 28)\n",
            "/content/input1/IMSLP06053p196.png\n",
            "<class 'numpy.ndarray'>\n",
            "(28, 28)\n",
            "/content/input1/mops-150.png\n",
            "<class 'numpy.ndarray'>\n",
            "(28, 28)\n",
            "/content/input1/IMSLP06053p1328.png\n",
            "<class 'numpy.ndarray'>\n",
            "(28, 28)\n",
            "/content/input1/IMSLP06053p1149.png\n",
            "<class 'numpy.ndarray'>\n",
            "(28, 28)\n",
            "/content/input1/mtest1-196.png\n",
            "<class 'numpy.ndarray'>\n",
            "(28, 28)\n",
            "/content/input1/IMSLP06053p1711.png\n",
            "<class 'numpy.ndarray'>\n",
            "(28, 28)\n",
            "/content/input1/IMSLP06053p1718.png\n",
            "<class 'numpy.ndarray'>\n",
            "(28, 28)\n",
            "/content/input1/mtest1-1105.png\n",
            "<class 'numpy.ndarray'>\n",
            "(28, 28)\n",
            "/content/input1/IMSLP06053p1324.png\n",
            "<class 'numpy.ndarray'>\n",
            "(28, 28)\n",
            "/content/input1/mtest1-1100.png\n",
            "<class 'numpy.ndarray'>\n",
            "(28, 28)\n",
            "/content/input1/IMSLP06053p1142.png\n",
            "<class 'numpy.ndarray'>\n",
            "(28, 28)\n",
            "/content/input1/mtest1-153.png\n",
            "<class 'numpy.ndarray'>\n",
            "(28, 28)\n",
            "/content/input1/mops-131.png\n",
            "<class 'numpy.ndarray'>\n",
            "(28, 28)\n",
            "/content/input1/mtest1-147.png\n",
            "<class 'numpy.ndarray'>\n",
            "(28, 28)\n",
            "/content/input1/IMSLP06053p1263.png\n",
            "<class 'numpy.ndarray'>\n",
            "(28, 28)\n",
            "/content/input1/IMSLP06053p1513.png\n",
            "<class 'numpy.ndarray'>\n",
            "(28, 28)\n",
            "/content/input1/mtest2-182.png\n",
            "<class 'numpy.ndarray'>\n",
            "(28, 28)\n",
            "/content/input1/IMSLP06053p1268.png\n",
            "<class 'numpy.ndarray'>\n",
            "(28, 28)\n",
            "/content/input1/mtest2-147.png\n",
            "<class 'numpy.ndarray'>\n",
            "(28, 28)\n",
            "/content/input1/IMSLP06053p1515.png\n",
            "<class 'numpy.ndarray'>\n",
            "(28, 28)\n",
            "/content/input1/IMSLP06053p1540.png\n",
            "<class 'numpy.ndarray'>\n",
            "(28, 28)\n",
            "/content/input1/mtest1-144.png\n",
            "<class 'numpy.ndarray'>\n",
            "(28, 28)\n",
            "/content/input1/IMSLP06053p1507.png\n",
            "<class 'numpy.ndarray'>\n",
            "(28, 28)\n",
            "/content/input1/mtest1-151.png\n",
            "<class 'numpy.ndarray'>\n",
            "(28, 28)\n",
            "/content/input1/mtest1-154.png\n",
            "<class 'numpy.ndarray'>\n",
            "(28, 28)\n",
            "/content/input1/mtest1-148.png\n",
            "<class 'numpy.ndarray'>\n",
            "(28, 28)\n",
            "/content/input1/IMSLP06053p1715.png\n",
            "<class 'numpy.ndarray'>\n",
            "(28, 28)\n",
            "/content/input1/IMSLP06053p1703.png\n",
            "<class 'numpy.ndarray'>\n",
            "(28, 28)\n",
            "/content/input1/IMSLP06053p1706.png\n",
            "<class 'numpy.ndarray'>\n",
            "(28, 28)\n",
            "/content/input1/IMSLP06053p1725.png\n",
            "<class 'numpy.ndarray'>\n",
            "(28, 28)\n",
            "/content/input1/IMSLP06053p1701.png\n",
            "<class 'numpy.ndarray'>\n",
            "(28, 28)\n",
            "/content/input1/IMSLP06053p1514.png\n",
            "<class 'numpy.ndarray'>\n",
            "(28, 28)\n",
            "/content/input1/mtest2-1103.png\n",
            "<class 'numpy.ndarray'>\n",
            "(28, 28)\n",
            "/content/input1/IMSLP06053p1147.png\n",
            "<class 'numpy.ndarray'>\n",
            "(28, 28)\n",
            "/content/input1/IMSLP06053p1447.png\n",
            "<class 'numpy.ndarray'>\n",
            "(28, 28)\n",
            "/content/input1/mops-190.png\n",
            "<class 'numpy.ndarray'>\n",
            "(28, 28)\n",
            "/content/input1/mtest1-197.png\n",
            "<class 'numpy.ndarray'>\n",
            "(28, 28)\n",
            "/content/input1/mtest2-179.png\n",
            "<class 'numpy.ndarray'>\n",
            "(28, 28)\n",
            "/content/input1/mtest2-196.png\n",
            "<class 'numpy.ndarray'>\n",
            "(28, 28)\n",
            "/content/input1/IMSLP06053p1143.png\n",
            "<class 'numpy.ndarray'>\n",
            "(28, 28)\n",
            "/content/input1/mtest2-1104.png\n",
            "<class 'numpy.ndarray'>\n",
            "(28, 28)\n",
            "/content/input1/mtest1-146.png\n",
            "<class 'numpy.ndarray'>\n",
            "(28, 28)\n",
            "/content/input1/mtest1-139.png\n",
            "<class 'numpy.ndarray'>\n",
            "(28, 28)\n",
            "/content/input1/IMSLP06053p1327.png\n",
            "<class 'numpy.ndarray'>\n",
            "(28, 28)\n",
            "/content/input1/IMSLP06053p1494.png\n",
            "<class 'numpy.ndarray'>\n",
            "(28, 28)\n",
            "/content/input1/IMSLP06053p18.png\n",
            "<class 'numpy.ndarray'>\n",
            "(28, 28)\n",
            "/content/input1/IMSLP06053p1329.png\n",
            "<class 'numpy.ndarray'>\n",
            "(28, 28)\n",
            "/content/input1/mops-12.png\n",
            "<class 'numpy.ndarray'>\n",
            "(28, 28)\n",
            "/content/input1/IMSLP06053p1312.png\n",
            "<class 'numpy.ndarray'>\n",
            "(28, 28)\n",
            "/content/input1/IMSLP06053p1502.png\n",
            "<class 'numpy.ndarray'>\n",
            "(28, 28)\n",
            "/content/input1/IMSLP06053p1311.png\n",
            "<class 'numpy.ndarray'>\n",
            "(28, 28)\n",
            "/content/input1/mtest2-180.png\n",
            "<class 'numpy.ndarray'>\n",
            "(28, 28)\n",
            "/content/input1/IMSLP06053p1724.png\n",
            "<class 'numpy.ndarray'>\n",
            "(28, 28)\n",
            "/content/input1/mtest2-133.png\n",
            "<class 'numpy.ndarray'>\n",
            "(28, 28)\n",
            "/content/input1/mops-142.png\n",
            "<class 'numpy.ndarray'>\n",
            "(28, 28)\n",
            "/content/input1/IMSLP06053p1343.png\n",
            "<class 'numpy.ndarray'>\n",
            "(28, 28)\n",
            "/content/input1/IMSLP06053p1153.png\n",
            "<class 'numpy.ndarray'>\n",
            "(28, 28)\n",
            "/content/input1/IMSLP06053p1325.png\n",
            "<class 'numpy.ndarray'>\n",
            "(28, 28)\n",
            "/content/input1/mtest1-198.png\n",
            "<class 'numpy.ndarray'>\n",
            "(28, 28)\n",
            "/content/input1/mops-188.png\n",
            "<class 'numpy.ndarray'>\n",
            "(28, 28)\n",
            "/content/input1/IMSLP06053p1148.png\n",
            "<class 'numpy.ndarray'>\n",
            "(28, 28)\n",
            "/content/input1/mtest2-194.png\n",
            "<class 'numpy.ndarray'>\n",
            "(28, 28)\n",
            "/content/input1/mtest1-1109.png\n",
            "<class 'numpy.ndarray'>\n",
            "(28, 28)\n",
            "/content/input1/mops-179.png\n",
            "<class 'numpy.ndarray'>\n",
            "(28, 28)\n",
            "/content/input1/IMSLP06053p1508.png\n",
            "<class 'numpy.ndarray'>\n",
            "(28, 28)\n",
            "/content/input1/IMSLP06053p1151.png\n",
            "<class 'numpy.ndarray'>\n",
            "(28, 28)\n",
            "/content/input1/mtest2-185.png\n",
            "<class 'numpy.ndarray'>\n",
            "(28, 28)\n",
            "/content/input1/IMSLP06053p191.png\n",
            "<class 'numpy.ndarray'>\n",
            "(28, 28)\n",
            "/content/input1/IMSLP06053p1528.png\n",
            "<class 'numpy.ndarray'>\n",
            "(28, 28)\n",
            "/content/input1/IMSLP06053p1139.png\n",
            "<class 'numpy.ndarray'>\n",
            "(28, 28)\n",
            "/content/input1/mops-139.png\n",
            "<class 'numpy.ndarray'>\n",
            "(28, 28)\n",
            "/content/input1/IMSLP06053p1144.png\n",
            "<class 'numpy.ndarray'>\n",
            "(28, 28)\n",
            "/content/input1/mops-133.png\n",
            "<class 'numpy.ndarray'>\n",
            "(28, 28)\n",
            "/content/input1/mops-184.png\n",
            "<class 'numpy.ndarray'>\n",
            "(28, 28)\n",
            "/content/input1/mtest2-181.png\n",
            "<class 'numpy.ndarray'>\n",
            "(28, 28)\n",
            "/content/input1/mtest1-183.png\n",
            "<class 'numpy.ndarray'>\n",
            "(28, 28)\n",
            "/content/input1/IMSLP06053p1720.png\n",
            "<class 'numpy.ndarray'>\n",
            "(28, 28)\n",
            "/content/input1/IMSLP06053p1316.png\n",
            "<class 'numpy.ndarray'>\n",
            "(28, 28)\n",
            "/content/input1/IMSLP06053p1322.png\n",
            "<class 'numpy.ndarray'>\n",
            "(28, 28)\n",
            "/content/input1/IMSLP06053p192.png\n",
            "<class 'numpy.ndarray'>\n",
            "(28, 28)\n",
            "/content/input1/mops-11.png\n",
            "<class 'numpy.ndarray'>\n",
            "(28, 28)\n",
            "/content/input1/IMSLP06053p1495.png\n",
            "<class 'numpy.ndarray'>\n",
            "(28, 28)\n",
            "/content/input1/mtest1-138.png\n",
            "<class 'numpy.ndarray'>\n",
            "(28, 28)\n",
            "/content/input1/mops-146.png\n",
            "<class 'numpy.ndarray'>\n",
            "(28, 28)\n",
            "/content/input1/IMSLP06053p1313.png\n",
            "<class 'numpy.ndarray'>\n",
            "(28, 28)\n",
            "/content/input1/IMSLP06053p1491.png\n",
            "<class 'numpy.ndarray'>\n",
            "(28, 28)\n",
            "/content/input1/mops-193.png\n",
            "<class 'numpy.ndarray'>\n",
            "(28, 28)\n",
            "/content/input1/mtest1-11.png\n",
            "<class 'numpy.ndarray'>\n",
            "(28, 28)\n",
            "/content/input1/IMSLP06053p1503.png\n",
            "<class 'numpy.ndarray'>\n",
            "(28, 28)\n",
            "/content/input1/IMSLP06053p1498.png\n",
            "<class 'numpy.ndarray'>\n",
            "(28, 28)\n",
            "/content/input1/mtest2-193.png\n",
            "<class 'numpy.ndarray'>\n",
            "(28, 28)\n",
            "/content/input1/mtest1-142.png\n",
            "<class 'numpy.ndarray'>\n",
            "(28, 28)\n",
            "/content/input1/mtest1-143.png\n",
            "<class 'numpy.ndarray'>\n",
            "(28, 28)\n",
            "/content/input1/mtest2-178.png\n",
            "<class 'numpy.ndarray'>\n",
            "(28, 28)\n",
            "/content/input1/mtest2-1106.png\n",
            "<class 'numpy.ndarray'>\n",
            "(28, 28)\n",
            "/content/input1/IMSLP06053p1492.png\n",
            "<class 'numpy.ndarray'>\n",
            "(28, 28)\n",
            "/content/input1/IMSLP06053p112.png\n",
            "<class 'numpy.ndarray'>\n",
            "(28, 28)\n",
            "/content/input1/mops-144.png\n",
            "<class 'numpy.ndarray'>\n",
            "(28, 28)\n",
            "/content/input1/IMSLP06053p1320.png\n",
            "<class 'numpy.ndarray'>\n",
            "(28, 28)\n",
            "/content/input1/mtest2-139.png\n",
            "<class 'numpy.ndarray'>\n",
            "(28, 28)\n",
            "/content/input1/IMSLP06053p1714.png\n",
            "<class 'numpy.ndarray'>\n",
            "(28, 28)\n",
            "/content/input1/mtest2-150.png\n",
            "<class 'numpy.ndarray'>\n",
            "(28, 28)\n",
            "/content/input1/IMSLP06053p1499.png\n",
            "<class 'numpy.ndarray'>\n",
            "(28, 28)\n",
            "/content/input1/IMSLP06053p1331.png\n",
            "<class 'numpy.ndarray'>\n",
            "(28, 28)\n",
            "/content/input1/mops-178.png\n",
            "<class 'numpy.ndarray'>\n",
            "(28, 28)\n",
            "/content/input1/IMSLP06053p1138.png\n",
            "<class 'numpy.ndarray'>\n",
            "(28, 28)\n",
            "/content/input1/IMSLP06053p1704.png\n",
            "<class 'numpy.ndarray'>\n",
            "(28, 28)\n",
            "/content/input1/mtest1-149.png\n",
            "<class 'numpy.ndarray'>\n",
            "(28, 28)\n",
            "/content/input1/mtest2-187.png\n",
            "<class 'numpy.ndarray'>\n",
            "(28, 28)\n",
            "/content/input1/IMSLP06053p1141.png\n",
            "<class 'numpy.ndarray'>\n",
            "(28, 28)\n",
            "/content/input1/IMSLP06053p1146.png\n",
            "<class 'numpy.ndarray'>\n",
            "(28, 28)\n",
            "/content/input1/mtest2-137.png\n",
            "<class 'numpy.ndarray'>\n",
            "(28, 28)\n",
            "/content/input1/IMSLP06053p1707.png\n",
            "<class 'numpy.ndarray'>\n",
            "(28, 28)\n",
            "/content/input1/IMSLP06053p1510.png\n",
            "<class 'numpy.ndarray'>\n",
            "(28, 28)\n",
            "/content/input1/IMSLP06053p1341.png\n",
            "<class 'numpy.ndarray'>\n",
            "(28, 28)\n",
            "/content/input1/mtest1-12.png\n",
            "<class 'numpy.ndarray'>\n",
            "(28, 28)\n",
            "/content/input1/mtest2-146.png\n",
            "<class 'numpy.ndarray'>\n",
            "(28, 28)\n",
            "/content/input1/mops-187.png\n",
            "<class 'numpy.ndarray'>\n",
            "(28, 28)\n",
            "/content/input1/IMSLP06053p1315.png\n",
            "<class 'numpy.ndarray'>\n",
            "(28, 28)\n",
            "/content/input1/IMSLP06053p1539.png\n",
            "<class 'numpy.ndarray'>\n",
            "(28, 28)\n",
            "/content/input1/mops-183.png\n",
            "<class 'numpy.ndarray'>\n",
            "(28, 28)\n",
            "/content/input1/IMSLP06053p187.png\n",
            "<class 'numpy.ndarray'>\n",
            "(28, 28)\n",
            "/content/input1/mtest2-130.png\n",
            "<class 'numpy.ndarray'>\n",
            "(28, 28)\n",
            "/content/input1/mops-134.png\n",
            "<class 'numpy.ndarray'>\n",
            "(28, 28)\n",
            "/content/input1/mtest1-190.png\n",
            "<class 'numpy.ndarray'>\n",
            "(28, 28)\n",
            "/content/input1/mops-182.png\n",
            "<class 'numpy.ndarray'>\n",
            "(28, 28)\n",
            "/content/input1/IMSLP06053p111.png\n",
            "<class 'numpy.ndarray'>\n",
            "(28, 28)\n",
            "/content/input1/IMSLP06053p1485.png\n",
            "<class 'numpy.ndarray'>\n",
            "(28, 28)\n",
            "/content/input1/mops-180.png\n",
            "<class 'numpy.ndarray'>\n",
            "(28, 28)\n",
            "/content/input1/mtest2-140.png\n",
            "<class 'numpy.ndarray'>\n",
            "(28, 28)\n",
            "/content/input1/IMSLP06053p195.png\n",
            "<class 'numpy.ndarray'>\n",
            "(28, 28)\n",
            "/content/input1/mtest2-186.png\n",
            "<class 'numpy.ndarray'>\n",
            "(28, 28)\n",
            "/content/input1/IMSLP06053p1702.png\n",
            "<class 'numpy.ndarray'>\n",
            "(28, 28)\n",
            "/content/input1/IMSLP06053p1493.png\n",
            "<class 'numpy.ndarray'>\n",
            "(28, 28)\n",
            "/content/input1/mtest2-1105.png\n",
            "<class 'numpy.ndarray'>\n",
            "(28, 28)\n",
            "/content/input1/mops-130.png\n",
            "<class 'numpy.ndarray'>\n",
            "(28, 28)\n",
            "/content/input1/mtest2-142.png\n",
            "<class 'numpy.ndarray'>\n",
            "(28, 28)\n",
            "/content/input1/IMSLP06053p1705.png\n",
            "<class 'numpy.ndarray'>\n",
            "(28, 28)\n",
            "/content/input1/mtest1-192.png\n",
            "<class 'numpy.ndarray'>\n",
            "(28, 28)\n",
            "/content/input1/mtest2-129.png\n",
            "<class 'numpy.ndarray'>\n",
            "(28, 28)\n",
            "/content/input1/mops-141.png\n",
            "<class 'numpy.ndarray'>\n",
            "(28, 28)\n",
            "/content/input1/mtest1-133.png\n",
            "<class 'numpy.ndarray'>\n",
            "(28, 28)\n",
            "/content/input1/mtest1-182.png\n",
            "<class 'numpy.ndarray'>\n",
            "(28, 28)\n",
            "/content/input1/IMSLP06053p1496.png\n",
            "<class 'numpy.ndarray'>\n",
            "(28, 28)\n",
            "/content/input1/IMSLP06053p1537.png\n",
            "<class 'numpy.ndarray'>\n",
            "(28, 28)\n",
            "/content/input1/mtest1-184.png\n",
            "<class 'numpy.ndarray'>\n",
            "(28, 28)\n",
            "/content/input1/mtest1-193.png\n",
            "<class 'numpy.ndarray'>\n",
            "(28, 28)\n",
            "/content/input1/IMSLP06053p1483.png\n",
            "<class 'numpy.ndarray'>\n",
            "(28, 28)\n",
            "/content/input1/mtest1-187.png\n",
            "<class 'numpy.ndarray'>\n",
            "(28, 28)\n",
            "/content/input1/IMSLP06053p1712.png\n",
            "<class 'numpy.ndarray'>\n",
            "(28, 28)\n",
            "/content/input1/IMSLP06053p1484.png\n",
            "<class 'numpy.ndarray'>\n",
            "(28, 28)\n",
            "/content/input1/IMSLP06053p1330.png\n",
            "<class 'numpy.ndarray'>\n",
            "(28, 28)\n",
            "/content/input1/IMSLP06053p1168.png\n",
            "<class 'numpy.ndarray'>\n",
            "(28, 28)\n",
            "/content/input1/IMSLP06053p1340.png\n",
            "<class 'numpy.ndarray'>\n",
            "(28, 28)\n",
            "/content/input1/mops-189.png\n",
            "<class 'numpy.ndarray'>\n",
            "(28, 28)\n",
            "/content/input1/IMSLP06053p1486.png\n",
            "<class 'numpy.ndarray'>\n",
            "(28, 28)\n",
            "/content/input1/IMSLP06053p1509.png\n",
            "<class 'numpy.ndarray'>\n",
            "(28, 28)\n",
            "/content/input1/mops-143.png\n",
            "<class 'numpy.ndarray'>\n",
            "(28, 28)\n",
            "/content/input1/IMSLP06053p1342.png\n",
            "<class 'numpy.ndarray'>\n",
            "(28, 28)\n",
            "/content/input1/mtest1-189.png\n",
            "<class 'numpy.ndarray'>\n",
            "(28, 28)\n",
            "/content/input1/IMSLP06053p1532.png\n",
            "<class 'numpy.ndarray'>\n",
            "(28, 28)\n",
            "/content/input1/mtest2-141.png\n",
            "<class 'numpy.ndarray'>\n",
            "(28, 28)\n",
            "/content/input1/mops-136.png\n",
            "<class 'numpy.ndarray'>\n",
            "(28, 28)\n",
            "/content/input1/mops-137.png\n",
            "<class 'numpy.ndarray'>\n",
            "(28, 28)\n",
            "/content/input1/mtest1-145.png\n",
            "<class 'numpy.ndarray'>\n",
            "(28, 28)\n",
            "/content/input1/mtest1-1111.png\n",
            "<class 'numpy.ndarray'>\n",
            "(28, 28)\n",
            "/content/input1/mtest1-199.png\n",
            "<class 'numpy.ndarray'>\n",
            "(28, 28)\n",
            "/content/input1/IMSLP06053p1717.png\n",
            "<class 'numpy.ndarray'>\n",
            "(28, 28)\n",
            "/content/input1/IMSLP06053p1719.png\n",
            "<class 'numpy.ndarray'>\n",
            "(28, 28)\n",
            "/content/input1/mtest2-184.png\n",
            "<class 'numpy.ndarray'>\n",
            "(28, 28)\n",
            "/content/input1/IMSLP06053p1166.png\n",
            "<class 'numpy.ndarray'>\n",
            "(28, 28)\n",
            "/content/input1/IMSLP06053p1321.png\n",
            "<class 'numpy.ndarray'>\n",
            "(28, 28)\n",
            "/content/input1/IMSLP06053p1155.png\n",
            "<class 'numpy.ndarray'>\n",
            "(28, 28)\n",
            "/content/input1/mops-186.png\n",
            "<class 'numpy.ndarray'>\n",
            "(28, 28)\n",
            "/content/input1/mops-191.png\n",
            "<class 'numpy.ndarray'>\n",
            "(28, 28)\n",
            "/content/input1/IMSLP06053p1310.png\n",
            "<class 'numpy.ndarray'>\n",
            "(28, 28)\n",
            "/content/input1/IMSLP06053p1266.png\n",
            "<class 'numpy.ndarray'>\n",
            "(28, 28)\n",
            "/content/input1/mtest1-150.png\n",
            "<class 'numpy.ndarray'>\n",
            "(28, 28)\n",
            "/content/input1/mtest1-140.png\n",
            "<class 'numpy.ndarray'>\n",
            "(28, 28)\n",
            "/content/input1/IMSLP06053p1713.png\n",
            "<class 'numpy.ndarray'>\n",
            "(28, 28)\n",
            "/content/input1/mtest1-188.png\n",
            "<class 'numpy.ndarray'>\n",
            "(28, 28)\n",
            "/content/input1/mtest2-143.png\n",
            "<class 'numpy.ndarray'>\n",
            "(28, 28)\n",
            "/content/input1/IMSLP06053p113.png\n",
            "<class 'numpy.ndarray'>\n",
            "(28, 28)\n",
            "/content/input1/IMSLP06053p1487.png\n",
            "<class 'numpy.ndarray'>\n",
            "(28, 28)\n",
            "/content/input1/mtest2-195.png\n",
            "<class 'numpy.ndarray'>\n",
            "(28, 28)\n",
            "/content/input1/IMSLP06053p1489.png\n",
            "<class 'numpy.ndarray'>\n",
            "(28, 28)\n",
            "/content/input1/mops-10.png\n",
            "<class 'numpy.ndarray'>\n",
            "(28, 28)\n",
            "/content/input1/IMSLP06053p1716.png\n",
            "<class 'numpy.ndarray'>\n",
            "(28, 28)\n",
            "/content/input1/IMSLP06053p1504.png\n",
            "<class 'numpy.ndarray'>\n",
            "(28, 28)\n",
            "/content/input1/IMSLP06053p19.png\n",
            "<class 'numpy.ndarray'>\n",
            "(28, 28)\n",
            "/content/input1/IMSLP06053p1140.png\n",
            "<class 'numpy.ndarray'>\n",
            "(28, 28)\n",
            "/content/input1/mtest1-137.png\n",
            "<class 'numpy.ndarray'>\n",
            "(28, 28)\n",
            "/content/input1/mtest2-190.png\n",
            "<class 'numpy.ndarray'>\n",
            "(28, 28)\n",
            "/content/input1/mtest1-136.png\n",
            "<class 'numpy.ndarray'>\n",
            "(28, 28)\n",
            "/content/input1/mtest1-195.png\n",
            "<class 'numpy.ndarray'>\n",
            "(28, 28)\n",
            "/content/input1/mtest2-144.png\n",
            "<class 'numpy.ndarray'>\n",
            "(28, 28)\n",
            "/content/input1/IMSLP06053p1501.png\n",
            "<class 'numpy.ndarray'>\n",
            "(28, 28)\n",
            "/content/input1/mops-140.png\n",
            "<class 'numpy.ndarray'>\n",
            "(28, 28)\n",
            "/content/input1/mops-147.png\n",
            "<class 'numpy.ndarray'>\n",
            "(28, 28)\n",
            "/content/input1/mtest1-1103.png\n",
            "<class 'numpy.ndarray'>\n",
            "(28, 28)\n",
            "/content/input1/IMSLP06053p1150.png\n",
            "<class 'numpy.ndarray'>\n",
            "(28, 28)\n",
            "/content/input1/mtest1-134.png\n",
            "<class 'numpy.ndarray'>\n",
            "(28, 28)\n",
            "/content/input1/mtest1-186.png\n",
            "<class 'numpy.ndarray'>\n",
            "(28, 28)\n",
            "/content/input1/IMSLP06053p1137.png\n",
            "<class 'numpy.ndarray'>\n",
            "(28, 28)\n",
            "/content/input1/mtest2-1102.png\n",
            "<class 'numpy.ndarray'>\n",
            "(28, 28)\n",
            "/content/input1/mtest2-192.png\n",
            "<class 'numpy.ndarray'>\n",
            "(28, 28)\n",
            "/content/input1/IMSLP06053p1145.png\n",
            "<class 'numpy.ndarray'>\n",
            "(28, 28)\n",
            "/content/input1/IMSLP06053p1154.png\n",
            "<class 'numpy.ndarray'>\n",
            "(28, 28)\n",
            "/content/input1/IMSLP06053p1536.png\n",
            "<class 'numpy.ndarray'>\n",
            "(28, 28)\n",
            "/content/input1/mtest2-149.png\n",
            "<class 'numpy.ndarray'>\n",
            "(28, 28)\n",
            "/content/input1/mops-185.png\n",
            "<class 'numpy.ndarray'>\n",
            "(28, 28)\n",
            "/content/input1/IMSLP06053p1708.png\n",
            "<class 'numpy.ndarray'>\n",
            "(28, 28)\n",
            "/content/input1/mtest2-188.png\n",
            "<class 'numpy.ndarray'>\n",
            "(28, 28)\n",
            "/content/input1/IMSLP06053p1490.png\n",
            "<class 'numpy.ndarray'>\n",
            "(28, 28)\n",
            "/content/input1/mtest1-141.png\n",
            "<class 'numpy.ndarray'>\n",
            "(28, 28)\n",
            "/content/input1/IMSLP06053p193.png\n",
            "<class 'numpy.ndarray'>\n",
            "(28, 28)\n",
            "/content/input1/mtest2-11.png\n",
            "<class 'numpy.ndarray'>\n",
            "(28, 28)\n",
            "/content/input1/mops-145.png\n",
            "<class 'numpy.ndarray'>\n",
            "(28, 28)\n",
            "/content/input1/IMSLP06053p1731.png\n",
            "<class 'numpy.ndarray'>\n",
            "(28, 28)\n",
            "/content/input1/IMSLP06053p1710.png\n",
            "<class 'numpy.ndarray'>\n",
            "(28, 28)\n",
            "/content/input1/IMSLP06053p1512.png\n",
            "<class 'numpy.ndarray'>\n",
            "(28, 28)\n",
            "/content/input1/IMSLP06053p1525.png\n",
            "<class 'numpy.ndarray'>\n",
            "(28, 28)\n",
            "/content/input1/IMSLP06053p1657.png\n",
            "<class 'numpy.ndarray'>\n",
            "(28, 28)\n",
            "/content/input1/mops-181.png\n",
            "<class 'numpy.ndarray'>\n",
            "(28, 28)\n",
            "/content/input1/mtest2-189.png\n",
            "<class 'numpy.ndarray'>\n",
            "(28, 28)\n",
            "/content/input1/IMSLP06053p1265.png\n",
            "<class 'numpy.ndarray'>\n",
            "(28, 28)\n",
            "/content/input1/mops-1102.png\n",
            "<class 'numpy.ndarray'>\n",
            "(28, 28)\n",
            "/content/input1/IMSLP06053p1262.png\n",
            "<class 'numpy.ndarray'>\n",
            "(28, 28)\n",
            "/content/input1/IMSLP06053p1314.png\n",
            "<class 'numpy.ndarray'>\n",
            "(28, 28)\n",
            "/content/input1/IMSLP06053p1308.png\n",
            "<class 'numpy.ndarray'>\n",
            "(28, 28)\n",
            "/content/input1/IMSLP06053p1152.png\n",
            "<class 'numpy.ndarray'>\n",
            "(28, 28)\n",
            "/content/input1/IMSLP06053p1506.png\n",
            "<class 'numpy.ndarray'>\n",
            "(28, 28)\n",
            "/content/input1/mops-192.png\n",
            "<class 'numpy.ndarray'>\n",
            "(28, 28)\n",
            "/content/input1/mops-148.png\n",
            "<class 'numpy.ndarray'>\n",
            "(28, 28)\n",
            "/content/input1/IMSLP06053p1167.png\n",
            "<class 'numpy.ndarray'>\n",
            "(28, 28)\n",
            "/content/input1/IMSLP06053p1505.png\n",
            "<class 'numpy.ndarray'>\n",
            "(28, 28)\n",
            "/content/input1/mtest2-148.png\n",
            "<class 'numpy.ndarray'>\n",
            "(28, 28)\n",
            "/content/input1/mtest2-12.png\n",
            "<class 'numpy.ndarray'>\n",
            "(28, 28)\n",
            "/content/input1/IMSLP06053p1264.png\n",
            "<class 'numpy.ndarray'>\n",
            "(28, 28)\n",
            "/content/input1/mtest1-1110.png\n",
            "<class 'numpy.ndarray'>\n",
            "(28, 28)\n",
            "/content/input1/IMSLP06053p1488.png\n",
            "<class 'numpy.ndarray'>\n",
            "(28, 28)\n",
            "/content/input1/mops-194.png\n",
            "<class 'numpy.ndarray'>\n",
            "(28, 28)\n",
            "/content/input1/mtest2-135.png\n",
            "<class 'numpy.ndarray'>\n",
            "(28, 28)\n",
            "/content/input1/mtest1-185.png\n",
            "<class 'numpy.ndarray'>\n",
            "(28, 28)\n",
            "/content/input1/IMSLP06053p1309.png\n",
            "<class 'numpy.ndarray'>\n",
            "(28, 28)\n",
            "/content/input1/mops-195.png\n",
            "<class 'numpy.ndarray'>\n",
            "(28, 28)\n",
            "/content/input1/mtest2-10.png\n",
            "<class 'numpy.ndarray'>\n",
            "(28, 28)\n",
            "/content/input1/IMSLP06053p1319.png\n",
            "<class 'numpy.ndarray'>\n",
            "(28, 28)\n",
            "/content/input1/IMSLP06053p1169.png\n",
            "<class 'numpy.ndarray'>\n",
            "(28, 28)\n",
            "/content/input1/IMSLP06053p1318.png\n",
            "<class 'numpy.ndarray'>\n",
            "(28, 28)\n",
            "/content/input1/IMSLP06053p1500.png\n",
            "<class 'numpy.ndarray'>\n",
            "(28, 28)\n",
            "/content/input1/IMSLP06053p1726.png\n",
            "<class 'numpy.ndarray'>\n",
            "(28, 28)\n",
            "/content/input1/IMSLP06053p1267.png\n",
            "<class 'numpy.ndarray'>\n",
            "(28, 28)\n",
            "/content/input1/mops-138.png\n",
            "<class 'numpy.ndarray'>\n",
            "(28, 28)\n",
            "/content/input1/mops-129.png\n",
            "<class 'numpy.ndarray'>\n",
            "(28, 28)\n",
            "/content/input1/mtest1-152.png\n",
            "<class 'numpy.ndarray'>\n",
            "(28, 28)\n",
            "/content/input1/IMSLP06053p1516.png\n",
            "<class 'numpy.ndarray'>\n",
            "(28, 28)\n",
            "/content/input1/IMSLP06053p1326.png\n",
            "<class 'numpy.ndarray'>\n",
            "(28, 28)\n",
            "/content/input1/mtest1-1108.png\n",
            "<class 'numpy.ndarray'>\n",
            "(28, 28)\n",
            "/content/input1/IMSLP06053p1511.png\n",
            "<class 'numpy.ndarray'>\n",
            "(28, 28)\n",
            "/content/input1/mtest1-135.png\n",
            "<class 'numpy.ndarray'>\n",
            "(28, 28)\n",
            "/content/input1/mtest1-191.png\n",
            "<class 'numpy.ndarray'>\n",
            "(28, 28)\n",
            "/content/input1/mtest2-131.png\n",
            "<class 'numpy.ndarray'>\n",
            "(28, 28)\n",
            "/content/input1/IMSLP06053p1497.png\n",
            "<class 'numpy.ndarray'>\n",
            "(28, 28)\n",
            "/content/input1/mtest2-183.png\n",
            "<class 'numpy.ndarray'>\n",
            "(28, 28)\n",
            "/content/input1/mtest2-145.png\n",
            "<class 'numpy.ndarray'>\n",
            "(28, 28)\n",
            "/content/input1/IMSLP06053p1538.png\n",
            "<class 'numpy.ndarray'>\n",
            "(28, 28)\n",
            "/content/input1/mops-1103.png\n",
            "<class 'numpy.ndarray'>\n",
            "(28, 28)\n",
            "/content/input1/mops-132.png\n",
            "<class 'numpy.ndarray'>\n",
            "(28, 28)\n",
            "/content/input1/mops-196.png\n",
            "<class 'numpy.ndarray'>\n",
            "(28, 28)\n",
            "/content/input1/IMSLP06053p1317.png\n",
            "<class 'numpy.ndarray'>\n",
            "(28, 28)\n",
            "/content/input1/mops-135.png\n",
            "<class 'numpy.ndarray'>\n",
            "(28, 28)\n",
            "/content/input1/mtest1-10.png\n",
            "<class 'numpy.ndarray'>\n",
            "(28, 28)\n",
            "/content/input1/mtest1-1112.png\n",
            "<class 'numpy.ndarray'>\n",
            "(28, 28)\n",
            "/content/input1/mtest2-132.png\n",
            "<class 'numpy.ndarray'>\n",
            "(28, 28)\n"
          ]
        }
      ],
      "source": [
        "import glob\n",
        "temp=[]\n",
        "for fname in glob.glob('/content/input1/*.png'):\n",
        "  print(fname)\n",
        "  t=np.array(PIL.Image.open(fname).convert('L'))\n",
        "  print(type(t))\n",
        "  print(t.shape)\n",
        "  temp.append(t)\n",
        "train_images=np.asarray(temp)"
      ]
    },
    {
      "cell_type": "code",
      "execution_count": 85,
      "metadata": {
        "id": "NFC2ghIdiZYE"
      },
      "outputs": [],
      "source": [
        "train_images = train_images.reshape(train_images.shape[0], 28, 28, 1).astype('float32')\n",
        "train_images = (train_images - 127.5) / 127.5  # Normalize the images to [-1, 1]"
      ]
    },
    {
      "cell_type": "code",
      "source": [
        "print(train_images.shape)\n",
        "(train_images1, train_labels), (_, _) = tf.keras.datasets.mnist.load_data()\n",
        "print(train_images1.shape)"
      ],
      "metadata": {
        "id": "rmyjN4LAufEm",
        "outputId": "dcaf3e64-951e-4c24-ea4d-7d3229859dec",
        "colab": {
          "base_uri": "https://localhost:8080/"
        }
      },
      "execution_count": 21,
      "outputs": [
        {
          "output_type": "stream",
          "name": "stdout",
          "text": [
            "(339, 2772, 1960)\n",
            "(60000, 28, 28)\n"
          ]
        }
      ]
    },
    {
      "cell_type": "code",
      "execution_count": 86,
      "metadata": {
        "id": "S4PIDhoDLbsZ"
      },
      "outputs": [],
      "source": [
        "BUFFER_SIZE = 286\n",
        "BATCH_SIZE = 16"
      ]
    },
    {
      "cell_type": "code",
      "execution_count": 87,
      "metadata": {
        "id": "-yKCCQOoJ7cn",
        "outputId": "280072ea-a6bd-4863-e138-3b2fe8b20163",
        "colab": {
          "base_uri": "https://localhost:8080/"
        }
      },
      "outputs": [
        {
          "output_type": "stream",
          "name": "stdout",
          "text": [
            "[[[[ 0.02745098]\n",
            "   [ 0.02745098]\n",
            "   [ 0.02745098]\n",
            "   ...\n",
            "   [-0.19215687]\n",
            "   [ 0.05882353]\n",
            "   [ 0.03529412]]\n",
            "\n",
            "  [[-1.        ]\n",
            "   [-1.        ]\n",
            "   [-1.        ]\n",
            "   ...\n",
            "   [-1.        ]\n",
            "   [-1.        ]\n",
            "   [-1.        ]]\n",
            "\n",
            "  [[-1.        ]\n",
            "   [-1.        ]\n",
            "   [-0.96862745]\n",
            "   ...\n",
            "   [-0.3647059 ]\n",
            "   [-0.35686275]\n",
            "   [-0.3647059 ]]\n",
            "\n",
            "  ...\n",
            "\n",
            "  [[ 1.        ]\n",
            "   [-0.15294118]\n",
            "   [-1.        ]\n",
            "   ...\n",
            "   [ 1.        ]\n",
            "   [ 1.        ]\n",
            "   [ 1.        ]]\n",
            "\n",
            "  [[ 0.9764706 ]\n",
            "   [ 0.6       ]\n",
            "   [-0.01176471]\n",
            "   ...\n",
            "   [ 1.        ]\n",
            "   [ 1.        ]\n",
            "   [ 1.        ]]\n",
            "\n",
            "  [[ 0.99215686]\n",
            "   [ 1.        ]\n",
            "   [ 1.        ]\n",
            "   ...\n",
            "   [ 1.        ]\n",
            "   [ 1.        ]\n",
            "   [ 1.        ]]]\n",
            "\n",
            "\n",
            " [[[ 0.6862745 ]\n",
            "   [ 0.6862745 ]\n",
            "   [ 0.6784314 ]\n",
            "   ...\n",
            "   [ 0.6862745 ]\n",
            "   [ 0.6862745 ]\n",
            "   [ 0.6862745 ]]\n",
            "\n",
            "  [[ 0.8980392 ]\n",
            "   [ 0.8901961 ]\n",
            "   [ 0.8745098 ]\n",
            "   ...\n",
            "   [ 0.8980392 ]\n",
            "   [ 0.8980392 ]\n",
            "   [ 0.8980392 ]]\n",
            "\n",
            "  [[ 1.        ]\n",
            "   [ 1.        ]\n",
            "   [ 1.        ]\n",
            "   ...\n",
            "   [ 1.        ]\n",
            "   [ 1.        ]\n",
            "   [ 1.        ]]\n",
            "\n",
            "  ...\n",
            "\n",
            "  [[ 0.05098039]\n",
            "   [ 0.05098039]\n",
            "   [ 0.05098039]\n",
            "   ...\n",
            "   [ 0.05098039]\n",
            "   [ 0.05098039]\n",
            "   [ 0.05098039]]\n",
            "\n",
            "  [[ 0.94509804]\n",
            "   [ 0.94509804]\n",
            "   [ 0.94509804]\n",
            "   ...\n",
            "   [ 0.94509804]\n",
            "   [ 0.94509804]\n",
            "   [ 0.94509804]]\n",
            "\n",
            "  [[ 1.        ]\n",
            "   [ 1.        ]\n",
            "   [ 1.        ]\n",
            "   ...\n",
            "   [ 1.        ]\n",
            "   [ 1.        ]\n",
            "   [ 1.        ]]]\n",
            "\n",
            "\n",
            " [[[ 1.        ]\n",
            "   [ 1.        ]\n",
            "   [ 1.        ]\n",
            "   ...\n",
            "   [ 1.        ]\n",
            "   [ 1.        ]\n",
            "   [ 1.        ]]\n",
            "\n",
            "  [[-0.09019608]\n",
            "   [-0.09019608]\n",
            "   [-0.09019608]\n",
            "   ...\n",
            "   [-0.09019608]\n",
            "   [-0.09019608]\n",
            "   [-0.09019608]]\n",
            "\n",
            "  [[ 0.22352941]\n",
            "   [ 0.21568628]\n",
            "   [ 0.22352941]\n",
            "   ...\n",
            "   [ 0.22352941]\n",
            "   [ 0.21568628]\n",
            "   [ 0.22352941]]\n",
            "\n",
            "  ...\n",
            "\n",
            "  [[-0.15294118]\n",
            "   [-0.15294118]\n",
            "   [-0.15294118]\n",
            "   ...\n",
            "   [-0.15294118]\n",
            "   [-0.15294118]\n",
            "   [-0.15294118]]\n",
            "\n",
            "  [[ 0.8901961 ]\n",
            "   [ 0.8901961 ]\n",
            "   [ 0.8901961 ]\n",
            "   ...\n",
            "   [ 0.8901961 ]\n",
            "   [ 0.8901961 ]\n",
            "   [ 0.8901961 ]]\n",
            "\n",
            "  [[ 1.        ]\n",
            "   [ 1.        ]\n",
            "   [ 1.        ]\n",
            "   ...\n",
            "   [ 1.        ]\n",
            "   [ 1.        ]\n",
            "   [ 1.        ]]]\n",
            "\n",
            "\n",
            " ...\n",
            "\n",
            "\n",
            " [[[-0.16862746]\n",
            "   [-0.16862746]\n",
            "   [-0.16862746]\n",
            "   ...\n",
            "   [-0.16862746]\n",
            "   [-0.16862746]\n",
            "   [-0.16862746]]\n",
            "\n",
            "  [[ 0.8352941 ]\n",
            "   [ 0.8352941 ]\n",
            "   [ 0.8352941 ]\n",
            "   ...\n",
            "   [ 0.8352941 ]\n",
            "   [ 0.8352941 ]\n",
            "   [ 0.8352941 ]]\n",
            "\n",
            "  [[ 1.        ]\n",
            "   [ 1.        ]\n",
            "   [ 1.        ]\n",
            "   ...\n",
            "   [ 1.        ]\n",
            "   [ 1.        ]\n",
            "   [ 1.        ]]\n",
            "\n",
            "  ...\n",
            "\n",
            "  [[ 0.2       ]\n",
            "   [ 0.2       ]\n",
            "   [ 0.1764706 ]\n",
            "   ...\n",
            "   [ 0.16862746]\n",
            "   [ 0.09019608]\n",
            "   [ 0.05098039]]\n",
            "\n",
            "  [[ 0.29411766]\n",
            "   [ 0.29411766]\n",
            "   [ 0.29411766]\n",
            "   ...\n",
            "   [ 0.25490198]\n",
            "   [ 0.1764706 ]\n",
            "   [ 0.12941177]]\n",
            "\n",
            "  [[ 1.        ]\n",
            "   [ 1.        ]\n",
            "   [ 1.        ]\n",
            "   ...\n",
            "   [ 1.        ]\n",
            "   [ 0.8745098 ]\n",
            "   [ 0.79607844]]]\n",
            "\n",
            "\n",
            " [[[ 1.        ]\n",
            "   [ 1.        ]\n",
            "   [ 1.        ]\n",
            "   ...\n",
            "   [ 1.        ]\n",
            "   [ 1.        ]\n",
            "   [ 1.        ]]\n",
            "\n",
            "  [[ 1.        ]\n",
            "   [ 1.        ]\n",
            "   [ 1.        ]\n",
            "   ...\n",
            "   [ 1.        ]\n",
            "   [ 1.        ]\n",
            "   [ 1.        ]]\n",
            "\n",
            "  [[ 1.        ]\n",
            "   [ 1.        ]\n",
            "   [ 1.        ]\n",
            "   ...\n",
            "   [ 1.        ]\n",
            "   [ 1.        ]\n",
            "   [ 1.        ]]\n",
            "\n",
            "  ...\n",
            "\n",
            "  [[ 1.        ]\n",
            "   [ 1.        ]\n",
            "   [ 1.        ]\n",
            "   ...\n",
            "   [ 1.        ]\n",
            "   [ 1.        ]\n",
            "   [ 1.        ]]\n",
            "\n",
            "  [[ 1.        ]\n",
            "   [ 1.        ]\n",
            "   [ 1.        ]\n",
            "   ...\n",
            "   [ 1.        ]\n",
            "   [ 1.        ]\n",
            "   [ 1.        ]]\n",
            "\n",
            "  [[ 1.        ]\n",
            "   [ 1.        ]\n",
            "   [ 1.        ]\n",
            "   ...\n",
            "   [ 1.        ]\n",
            "   [ 1.        ]\n",
            "   [ 1.        ]]]\n",
            "\n",
            "\n",
            " [[[ 1.        ]\n",
            "   [ 1.        ]\n",
            "   [ 1.        ]\n",
            "   ...\n",
            "   [ 1.        ]\n",
            "   [ 1.        ]\n",
            "   [ 1.        ]]\n",
            "\n",
            "  [[ 1.        ]\n",
            "   [ 1.        ]\n",
            "   [ 1.        ]\n",
            "   ...\n",
            "   [ 1.        ]\n",
            "   [ 1.        ]\n",
            "   [ 1.        ]]\n",
            "\n",
            "  [[ 1.        ]\n",
            "   [ 1.        ]\n",
            "   [ 1.        ]\n",
            "   ...\n",
            "   [ 1.        ]\n",
            "   [ 1.        ]\n",
            "   [ 1.        ]]\n",
            "\n",
            "  ...\n",
            "\n",
            "  [[ 1.        ]\n",
            "   [ 1.        ]\n",
            "   [ 1.        ]\n",
            "   ...\n",
            "   [ 1.        ]\n",
            "   [ 1.        ]\n",
            "   [ 1.        ]]\n",
            "\n",
            "  [[ 1.        ]\n",
            "   [ 1.        ]\n",
            "   [ 1.        ]\n",
            "   ...\n",
            "   [ 1.        ]\n",
            "   [ 1.        ]\n",
            "   [ 1.        ]]\n",
            "\n",
            "  [[ 1.        ]\n",
            "   [ 1.        ]\n",
            "   [ 1.        ]\n",
            "   ...\n",
            "   [ 1.        ]\n",
            "   [ 1.        ]\n",
            "   [ 1.        ]]]]\n"
          ]
        },
        {
          "output_type": "execute_result",
          "data": {
            "text/plain": [
              "<_BatchDataset element_spec=TensorSpec(shape=(None, 28, 28, 1), dtype=tf.float32, name=None)>"
            ]
          },
          "metadata": {},
          "execution_count": 87
        }
      ],
      "source": [
        "# Batch and shuffle the data\n",
        "print(train_images)\n",
        "train_dataset = tf.data.Dataset.from_tensor_slices(train_images).shuffle(BUFFER_SIZE).batch(BATCH_SIZE)\n",
        "train_dataset"
      ]
    },
    {
      "cell_type": "markdown",
      "metadata": {
        "id": "THY-sZMiQ4UV"
      },
      "source": [
        "## Create the models\n",
        "\n",
        "Both the generator and discriminator are defined using the [Keras Sequential API](https://www.tensorflow.org/guide/keras#sequential_model)."
      ]
    },
    {
      "cell_type": "markdown",
      "metadata": {
        "id": "-tEyxE-GMC48"
      },
      "source": [
        "### The Generator\n",
        "\n",
        "The generator uses `tf.keras.layers.Conv2DTranspose` (upsampling) layers to produce an image from a seed (random noise). Start with a `Dense` layer that takes this seed as input, then upsample several times until you reach the desired image size of 28x28x1. Notice the `tf.keras.layers.LeakyReLU` activation for each layer, except the output layer which uses tanh."
      ]
    },
    {
      "cell_type": "code",
      "execution_count": 88,
      "metadata": {
        "id": "6bpTcDqoLWjY"
      },
      "outputs": [],
      "source": [
        "def make_generator_model():\n",
        "    model = tf.keras.Sequential()\n",
        "    model.add(layers.Dense(7*7*256, use_bias=False, input_shape=(100,)))\n",
        "    model.add(layers.BatchNormalization())\n",
        "    model.add(layers.LeakyReLU())\n",
        "\n",
        "    model.add(layers.Reshape((7, 7, 256)))\n",
        "    assert model.output_shape == (None, 7, 7, 256)  # Note: None is the batch size\n",
        "\n",
        "    model.add(layers.Conv2DTranspose(128, (5, 5), strides=(1, 1), padding='same', use_bias=False))\n",
        "    assert model.output_shape == (None, 7, 7, 128)\n",
        "    model.add(layers.BatchNormalization())\n",
        "    model.add(layers.LeakyReLU())\n",
        "\n",
        "    model.add(layers.Conv2DTranspose(64, (5, 5), strides=(2, 2), padding='same', use_bias=False))\n",
        "    assert model.output_shape == (None, 14, 14, 64)\n",
        "    model.add(layers.BatchNormalization())\n",
        "    model.add(layers.LeakyReLU())\n",
        "\n",
        "    model.add(layers.Conv2DTranspose(1, (5, 5), strides=(2, 2), padding='same', use_bias=False, activation='tanh'))\n",
        "    assert model.output_shape == (None, 28, 28, 1)\n",
        "\n",
        "    return model"
      ]
    },
    {
      "cell_type": "markdown",
      "metadata": {
        "id": "GyWgG09LCSJl"
      },
      "source": [
        "Use the (as yet untrained) generator to create an image."
      ]
    },
    {
      "cell_type": "code",
      "execution_count": 89,
      "metadata": {
        "id": "gl7jcC7TdPTG",
        "outputId": "83420748-ff7d-4494-fa33-506e81d9adcd",
        "colab": {
          "base_uri": "https://localhost:8080/",
          "height": 447
        }
      },
      "outputs": [
        {
          "output_type": "execute_result",
          "data": {
            "text/plain": [
              "<matplotlib.image.AxesImage at 0x79d560daee90>"
            ]
          },
          "metadata": {},
          "execution_count": 89
        },
        {
          "output_type": "display_data",
          "data": {
            "text/plain": [
              "<Figure size 640x480 with 1 Axes>"
            ],
            "image/png": "[encoded data removed]"
          },
          "metadata": {}
        }
      ],
      "source": [
        "generator = make_generator_model()\n",
        "\n",
        "noise = tf.random.normal([1, 100])\n",
        "generated_image = generator(noise, training=False)\n",
        "\n",
        "plt.imshow(generated_image[0, :, :, 0], cmap='gray')"
      ]
    },
    {
      "cell_type": "markdown",
      "metadata": {
        "id": "D0IKnaCtg6WE"
      },
      "source": [
        "### The Discriminator\n",
        "\n",
        "The discriminator is a CNN-based image classifier."
      ]
    },
    {
      "cell_type": "code",
      "execution_count": 90,
      "metadata": {
        "id": "dw2tPLmk2pEP"
      },
      "outputs": [],
      "source": [
        "def make_discriminator_model():\n",
        "    model = tf.keras.Sequential()\n",
        "    model.add(layers.Conv2D(64, (5, 5), strides=(2, 2), padding='same',\n",
        "                                     input_shape=[28, 28, 1]))\n",
        "    model.add(layers.LeakyReLU())\n",
        "    model.add(layers.Dropout(0.3))\n",
        "\n",
        "    model.add(layers.Conv2D(128, (5, 5), strides=(2, 2), padding='same'))\n",
        "    model.add(layers.LeakyReLU())\n",
        "    model.add(layers.Dropout(0.3))\n",
        "\n",
        "    model.add(layers.Flatten())\n",
        "    model.add(layers.Dense(1))\n",
        "\n",
        "    return model"
      ]
    },
    {
      "cell_type": "markdown",
      "metadata": {
        "id": "QhPneagzCaQv"
      },
      "source": [
        "Use the (as yet untrained) discriminator to classify the generated images as real or fake. The model will be trained to output positive values for real images, and negative values for fake images."
      ]
    },
    {
      "cell_type": "code",
      "execution_count": 91,
      "metadata": {
        "id": "gDkA05NE6QMs",
        "outputId": "8e4b7e06-f9d5-432f-bc24-0b8ed24e8cf9",
        "colab": {
          "base_uri": "https://localhost:8080/"
        }
      },
      "outputs": [
        {
          "output_type": "stream",
          "name": "stdout",
          "text": [
            "tf.Tensor([[0.00040689]], shape=(1, 1), dtype=float32)\n"
          ]
        }
      ],
      "source": [
        "discriminator = make_discriminator_model()\n",
        "decision = discriminator(generated_image)\n",
        "print (decision)"
      ]
    },
    {
      "cell_type": "markdown",
      "metadata": {
        "id": "0FMYgY_mPfTi"
      },
      "source": [
        "## Define the loss and optimizers\n",
        "\n",
        "Define loss functions and optimizers for both models.\n"
      ]
    },
    {
      "cell_type": "code",
      "execution_count": 92,
      "metadata": {
        "id": "psQfmXxYKU3X"
      },
      "outputs": [],
      "source": [
        "# This method returns a helper function to compute cross entropy loss\n",
        "cross_entropy = tf.keras.losses.BinaryCrossentropy(from_logits=True)"
      ]
    },
    {
      "cell_type": "markdown",
      "metadata": {
        "id": "PKY_iPSPNWoj"
      },
      "source": [
        "### Discriminator loss\n",
        "\n",
        "This method quantifies how well the discriminator is able to distinguish real images from fakes. It compares the discriminator's predictions on real images to an array of 1s, and the discriminator's predictions on fake (generated) images to an array of 0s."
      ]
    },
    {
      "cell_type": "code",
      "execution_count": 93,
      "metadata": {
        "id": "wkMNfBWlT-PV"
      },
      "outputs": [],
      "source": [
        "def discriminator_loss(real_output, fake_output):\n",
        "    real_loss = cross_entropy(tf.ones_like(real_output), real_output)\n",
        "    fake_loss = cross_entropy(tf.zeros_like(fake_output), fake_output)\n",
        "    total_loss = real_loss + fake_loss\n",
        "    return total_loss"
      ]
    },
    {
      "cell_type": "markdown",
      "metadata": {
        "id": "Jd-3GCUEiKtv"
      },
      "source": [
        "### Generator loss\n",
        "The generator's loss quantifies how well it was able to trick the discriminator. Intuitively, if the generator is performing well, the discriminator will classify the fake images as real (or 1). Here, compare the discriminators decisions on the generated images to an array of 1s."
      ]
    },
    {
      "cell_type": "code",
      "execution_count": 94,
      "metadata": {
        "id": "90BIcCKcDMxz"
      },
      "outputs": [],
      "source": [
        "def generator_loss(fake_output):\n",
        "    return cross_entropy(tf.ones_like(fake_output), fake_output)"
      ]
    },
    {
      "cell_type": "markdown",
      "metadata": {
        "id": "MgIc7i0th_Iu"
      },
      "source": [
        "The discriminator and the generator optimizers are different since you will train two networks separately."
      ]
    },
    {
      "cell_type": "code",
      "execution_count": 95,
      "metadata": {
        "id": "iWCn_PVdEJZ7"
      },
      "outputs": [],
      "source": [
        "generator_optimizer = tf.keras.optimizers.Adam(1e-4)\n",
        "discriminator_optimizer = tf.keras.optimizers.Adam(1e-4)"
      ]
    },
    {
      "cell_type": "markdown",
      "metadata": {
        "id": "mWtinsGDPJlV"
      },
      "source": [
        "### Save checkpoints\n",
        "This notebook also demonstrates how to save and restore models, which can be helpful in case a long running training task is interrupted."
      ]
    },
    {
      "cell_type": "code",
      "execution_count": 96,
      "metadata": {
        "id": "CA1w-7s2POEy"
      },
      "outputs": [],
      "source": [
        "checkpoint_dir = './training_checkpoints'\n",
        "checkpoint_prefix = os.path.join(checkpoint_dir, \"ckpt\")\n",
        "checkpoint = tf.train.Checkpoint(generator_optimizer=generator_optimizer,\n",
        "                                 discriminator_optimizer=discriminator_optimizer,\n",
        "                                 generator=generator,\n",
        "                                 discriminator=discriminator)"
      ]
    },
    {
      "cell_type": "markdown",
      "metadata": {
        "id": "Rw1fkAczTQYh"
      },
      "source": [
        "## Define the training loop\n"
      ]
    },
    {
      "cell_type": "code",
      "execution_count": 102,
      "metadata": {
        "id": "NS2GWywBbAWo"
      },
      "outputs": [],
      "source": [
        "EPOCHS = 5000\n",
        "noise_dim = 100\n",
        "num_examples_to_generate = 16\n",
        "\n",
        "# You will reuse this seed overtime (so it's easier)\n",
        "# to visualize progress in the animated GIF)\n",
        "seed = tf.random.normal([num_examples_to_generate, noise_dim])"
      ]
    },
    {
      "cell_type": "markdown",
      "metadata": {
        "id": "jylSonrqSWfi"
      },
      "source": [
        "The training loop begins with generator receiving a random seed as input. That seed is used to produce an image. The discriminator is then used to classify real images (drawn from the training set) and fakes images (produced by the generator). The loss is calculated for each of these models, and the gradients are used to update the generator and discriminator."
      ]
    },
    {
      "cell_type": "code",
      "execution_count": 98,
      "metadata": {
        "id": "3t5ibNo05jCB"
      },
      "outputs": [],
      "source": [
        "# Notice the use of `tf.function`\n",
        "# This annotation causes the function to be \"compiled\".\n",
        "@tf.function\n",
        "def train_step(images):\n",
        "    noise = tf.random.normal([BATCH_SIZE, noise_dim])\n",
        "\n",
        "    with tf.GradientTape() as gen_tape, tf.GradientTape() as disc_tape:\n",
        "      generated_images = generator(noise, training=True)\n",
        "\n",
        "      real_output = discriminator(images, training=True)\n",
        "      fake_output = discriminator(generated_images, training=True)\n",
        "\n",
        "      gen_loss = generator_loss(fake_output)\n",
        "      disc_loss = discriminator_loss(real_output, fake_output)\n",
        "      print(gen_loss,disc_loss)\n",
        "    gradients_of_generator = gen_tape.gradient(gen_loss, generator.trainable_variables)\n",
        "    gradients_of_discriminator = disc_tape.gradient(disc_loss, discriminator.trainable_variables)\n",
        "\n",
        "    generator_optimizer.apply_gradients(zip(gradients_of_generator, generator.trainable_variables))\n",
        "    discriminator_optimizer.apply_gradients(zip(gradients_of_discriminator, discriminator.trainable_variables))"
      ]
    },
    {
      "cell_type": "code",
      "execution_count": 99,
      "metadata": {
        "id": "2M7LmLtGEMQJ"
      },
      "outputs": [],
      "source": [
        "def train(dataset, epochs):\n",
        "  for epoch in range(epochs):\n",
        "    start = time.time()\n",
        "\n",
        "    for image_batch in dataset:\n",
        "      train_step(image_batch)\n",
        "\n",
        "    # Produce images for the GIF as you go\n",
        "    display.clear_output(wait=True)\n",
        "    generate_and_save_images(generator,\n",
        "                             epoch + 1,\n",
        "                             seed)\n",
        "\n",
        "    # Save the model every 15 epochs\n",
        "    if (epoch + 1) % 100 == 0:\n",
        "      checkpoint.save(file_prefix = checkpoint_prefix)\n",
        "\n",
        "    print ('Time for epoch {} is {} sec'.format(epoch + 1, time.time()-start))\n",
        "\n",
        "  # Generate after the final epoch\n",
        "  display.clear_output(wait=True)\n",
        "  generate_and_save_images(generator,\n",
        "                           epochs,\n",
        "                           seed)"
      ]
    },
    {
      "cell_type": "markdown",
      "metadata": {
        "id": "2aFF7Hk3XdeW"
      },
      "source": [
        "**Generate and save images**\n"
      ]
    },
    {
      "cell_type": "code",
      "execution_count": 100,
      "metadata": {
        "id": "RmdVsmvhPxyy"
      },
      "outputs": [],
      "source": [
        "def generate_and_save_images(model, epoch, test_input):\n",
        "  # Notice `training` is set to False.\n",
        "  # This is so all layers run in inference mode (batchnorm).\n",
        "  predictions = model(test_input, training=False)\n",
        "\n",
        "  fig = plt.figure(figsize=(4, 4))\n",
        "\n",
        "  for i in range(predictions.shape[0]):\n",
        "      plt.subplot(4, 4, i+1)\n",
        "      plt.imshow(predictions[i, :, :, 0] * 127.5 + 127.5, cmap='gray')\n",
        "      plt.axis('off')\n",
        "\n",
        "  plt.savefig('image_at_epoch_{:04d}.png'.format(epoch))\n",
        "  plt.show()"
      ]
    },
    {
      "cell_type": "markdown",
      "metadata": {
        "id": "dZrd4CdjR-Fp"
      },
      "source": [
        "## Train the model\n",
        "Call the `train()` method defined above to train the generator and discriminator simultaneously. Note, training GANs can be tricky. It's important that the generator and discriminator do not overpower each other (e.g., that they train at a similar rate).\n",
        "\n",
        "At the beginning of the training, the generated images look like random noise. As training progresses, the generated digits will look increasingly real. After about 50 epochs, they resemble MNIST digits. This may take about one minute / epoch with the default settings on Colab."
      ]
    },
    {
      "cell_type": "code",
      "execution_count": 103,
      "metadata": {
        "id": "Ly3UN0SLLY2l",
        "outputId": "2c5d1972-92e5-4aa8-f95b-f82a7d01226d",
        "colab": {
          "base_uri": "https://localhost:8080/",
          "height": 345
        }
      },
      "outputs": [
        {
          "output_type": "display_data",
          "data": {
            "text/plain": [
              "<Figure size 400x400 with 16 Axes>"
            ],
            "image/png": "[encoded data removed]"
          },
          "metadata": {}
        }
      ],
      "source": [
        "train(train_dataset, EPOCHS)"
      ]
    },
    {
      "cell_type": "markdown",
      "metadata": {
        "id": "rfM4YcPVPkNO"
      },
      "source": [
        "Restore the latest checkpoint."
      ]
    },
    {
      "cell_type": "code",
      "execution_count": 104,
      "metadata": {
        "id": "XhXsd0srPo8c",
        "outputId": "2f7b42b2-ba0b-430e-e2ec-512fd2d84189",
        "colab": {
          "base_uri": "https://localhost:8080/"
        }
      },
      "outputs": [
        {
          "output_type": "execute_result",
          "data": {
            "text/plain": [
              "<tensorflow.python.checkpoint.checkpoint.CheckpointLoadStatus at 0x79d5a61df760>"
            ]
          },
          "metadata": {},
          "execution_count": 104
        }
      ],
      "source": [
        "checkpoint.restore(tf.train.latest_checkpoint(checkpoint_dir))"
      ]
    },
    {
      "cell_type": "markdown",
      "metadata": {
        "id": "P4M_vIbUi7c0"
      },
      "source": [
        "## Create a GIF\n"
      ]
    },
    {
      "cell_type": "code",
      "execution_count": 105,
      "metadata": {
        "id": "WfO5wCdclHGL"
      },
      "outputs": [],
      "source": [
        "# Display a single image using the epoch number\n",
        "def display_image(epoch_no):\n",
        "  return PIL.Image.open('image_at_epoch_{:04d}.png'.format(epoch_no))"
      ]
    },
    {
      "cell_type": "code",
      "execution_count": 106,
      "metadata": {
        "id": "5x3q9_Oe5q0A",
        "outputId": "794d0d86-0722-48a3-ae7c-b2a7f286fffe",
        "colab": {
          "base_uri": "https://localhost:8080/",
          "height": 417
        }
      },
      "outputs": [
        {
          "output_type": "execute_result",
          "data": {
            "text/plain": [
              "<PIL.PngImagePlugin.PngImageFile image mode=RGBA size=400x400>"
            ],
            "image/png": "[encoded data removed]"
          },
          "metadata": {},
          "execution_count": 106
        }
      ],
      "source": [
        "display_image(EPOCHS)"
      ]
    },
    {
      "cell_type": "markdown",
      "metadata": {
        "id": "NywiH3nL8guF"
      },
      "source": [
        "Use `imageio` to create an animated gif using the images saved during training."
      ]
    },
    {
      "cell_type": "code",
      "execution_count": 107,
      "metadata": {
        "id": "IGKQgENQ8lEI",
        "outputId": "6c967558-984f-438c-a2d0-c1cce083d0dd",
        "colab": {
          "base_uri": "https://localhost:8080/"
        }
      },
      "outputs": [
        {
          "output_type": "stream",
          "name": "stderr",
          "text": [
            "<ipython-input-107-56bb6d34be2e>:7: DeprecationWarning: Starting with ImageIO v3 the behavior of this function will switch to that of iio.v3.imread. To keep the current behavior (and make this warning disappear) use `import imageio.v2 as imageio` or call `imageio.v2.imread` directly.\n",
            "  image = imageio.imread(filename)\n",
            "<ipython-input-107-56bb6d34be2e>:9: DeprecationWarning: Starting with ImageIO v3 the behavior of this function will switch to that of iio.v3.imread. To keep the current behavior (and make this warning disappear) use `import imageio.v2 as imageio` or call `imageio.v2.imread` directly.\n",
            "  image = imageio.imread(filename)\n"
          ]
        }
      ],
      "source": [
        "anim_file = 'dcgan.gif'\n",
        "\n",
        "with imageio.get_writer(anim_file, mode='I') as writer:\n",
        "  filenames = glob.glob('image*.png')\n",
        "  filenames = sorted(filenames)\n",
        "  for filename in filenames:\n",
        "    image = imageio.imread(filename)\n",
        "    writer.append_data(image)\n",
        "  image = imageio.imread(filename)\n",
        "  writer.append_data(image)"
      ]
    },
    {
      "cell_type": "code",
      "execution_count": 108,
      "metadata": {
        "id": "ZBwyU6t2Wf3g"
      },
      "outputs": [],
      "source": [
        "import tensorflow_docs.vis.embed as embed\n",
        "embed.embed_file(anim_file)"
      ]
    },
    {
      "cell_type": "markdown",
      "metadata": {
        "id": "k6qC-SbjK0yW"
      },
      "source": [
        "## Next steps\n"
      ]
    },
    {
      "cell_type": "markdown",
      "metadata": {
        "id": "xjjkT9KAK6H7"
      },
      "source": [
        "This tutorial has shown the complete code necessary to write and train a GAN. As a next step, you might like to experiment with a different dataset, for example the Large-scale Celeb Faces Attributes (CelebA) dataset [available on Kaggle](https://www.kaggle.com/jessicali9530/celeba-dataset). To learn more about GANs see the [NIPS 2016 Tutorial: Generative Adversarial Networks](https://arxiv.org/abs/1701.00160).\n"
      ]
    }
  ],
  "metadata": {
    "accelerator": "GPU",
    "colab": {
      "name": "dcgan.ipynb",
      "provenance": [],
      "gpuType": "T4"
    },
    "kernelspec": {
      "display_name": "Python 3",
      "name": "python3"
    }
  },
  "nbformat": 4,
  "nbformat_minor": 0
}